{
 "cells": [
  {
   "cell_type": "code",
   "execution_count": 1,
   "id": "c34d08d6-7316-435d-853d-24f4ddb2f6cd",
   "metadata": {},
   "outputs": [
    {
     "name": "stdin",
     "output_type": "stream",
     "text": [
      "enter a 4 digit number: 1234\n"
     ]
    },
    {
     "name": "stdout",
     "output_type": "stream",
     "text": [
      "sum of digits: 10\n"
     ]
    }
   ],
   "source": [
    "def dsum(n):\n",
    "    if n==0:\n",
    "        return 0\n",
    "    return n%10 + temp(n//10)\n",
    "def temp(n):\n",
    "    return dsum(n)\n",
    "num= int(input(\"enter a 4 digit number:\"))\n",
    "print(\"sum of digits:\",dsum(num))\n"
   ]
  },
  {
   "cell_type": "code",
   "execution_count": 3,
   "id": "d2e5579a-e95c-4492-a2f1-dd9f55cf9b4a",
   "metadata": {},
   "outputs": [
    {
     "name": "stdin",
     "output_type": "stream",
     "text": [
      "enter terms: 8\n"
     ]
    },
    {
     "name": "stdout",
     "output_type": "stream",
     "text": [
      "0 1 1 2 3 5 8 13 "
     ]
    }
   ],
   "source": [
    "def fib(n):\n",
    "    if n<=1:\n",
    "        return n\n",
    "    else:\n",
    "        return fib(n-1)+fib(n-2)\n",
    "num=int(input(\"enter terms:\"))\n",
    "for i in range(num):\n",
    "    print(fib(i), end=' ')"
   ]
  },
  {
   "cell_type": "code",
   "execution_count": 9,
   "id": "f0ff952b-49b6-49bc-8aab-23cb4d078f13",
   "metadata": {},
   "outputs": [
    {
     "name": "stdin",
     "output_type": "stream",
     "text": [
      "enter a number: 6\n"
     ]
    },
    {
     "name": "stdout",
     "output_type": "stream",
     "text": [
      "6 is even\n"
     ]
    }
   ],
   "source": [
    "def one(n):\n",
    "    if n==0:\n",
    "        return True\n",
    "    else:\n",
    "        return two(n-1)\n",
    "def two(n):\n",
    "    if n==0:\n",
    "        return False\n",
    "    else:\n",
    "        return one(n-1)\n",
    "num= int (input(\"enter a number:\"))\n",
    "if one(num):\n",
    "    print(num, \"is even\")\n",
    "else:\n",
    "    print(num,\"is odd\")"
   ]
  },
  {
   "cell_type": "code",
   "execution_count": 15,
   "id": "438a74c6-5808-4ca4-bae9-512c7455aedc",
   "metadata": {},
   "outputs": [
    {
     "name": "stdin",
     "output_type": "stream",
     "text": [
      "enter a number: 6\n"
     ]
    },
    {
     "name": "stdout",
     "output_type": "stream",
     "text": [
      "Neeraja 6\n",
      "Motamarri 5\n",
      "Neeraja 4\n",
      "Motamarri 3\n",
      "Neeraja 2\n",
      "Motamarri 1\n"
     ]
    }
   ],
   "source": [
    "def A(n):\n",
    "    if n<=0:\n",
    "        return\n",
    "    print(\"Neeraja\", n)\n",
    "    B(n-1)\n",
    "def B(n):\n",
    "    if n<=0:\n",
    "        return \n",
    "    print(\"Motamarri\",n)\n",
    "    A(n-1)\n",
    "num= int(input(\"enter a number:\"))\n",
    "A(num)\n",
    "      \n",
    "\n"
   ]
  },
  {
   "cell_type": "code",
   "execution_count": 23,
   "id": "785d35c2-31cb-4741-b680-fc48f40c92a0",
   "metadata": {},
   "outputs": [
    {
     "name": "stdin",
     "output_type": "stream",
     "text": [
      "enter starting number: 5\n"
     ]
    },
    {
     "name": "stdout",
     "output_type": "stream",
     "text": [
      " \n",
      " player A's turn. current number 5\n"
     ]
    },
    {
     "name": "stdin",
     "output_type": "stream",
     "text": [
      "player A, subtract 1 or 2: 4\n",
      "player A, subtract 1 or 2: 2\n"
     ]
    },
    {
     "name": "stdout",
     "output_type": "stream",
     "text": [
      " \n",
      " player B's turn. current number 3\n"
     ]
    },
    {
     "name": "stdin",
     "output_type": "stream",
     "text": [
      "player B, subtract 1 or 2: 1\n"
     ]
    },
    {
     "name": "stdout",
     "output_type": "stream",
     "text": [
      " \n",
      " player A's turn. current number 2\n"
     ]
    },
    {
     "name": "stdin",
     "output_type": "stream",
     "text": [
      "player A, subtract 1 or 2: 3\n",
      "player A, subtract 1 or 2: 3\n",
      "player A, subtract 1 or 2: 2\n"
     ]
    },
    {
     "name": "stdout",
     "output_type": "stream",
     "text": [
      "player B reached 0!! player B loses 🤦‍♀️ \n"
     ]
    }
   ],
   "source": [
    "def player_A(n):\n",
    "    if n<=0:\n",
    "        print(\"player A reached 0!! player A loses 🤦‍♀️ \")\n",
    "        return\n",
    "    print(f\" \\n player A's turn. current number {n}\")\n",
    "    move= int(input(\"player A, subtract 1 or 2:\"))\n",
    "    while move not in[1,2]:\n",
    "         move= int(input(\"player A, subtract 1 or 2:\"))\n",
    "    player_B(n-move)\n",
    "def player_B(n):\n",
    "     if n<=0:\n",
    "        print(\"player B reached 0!! player B loses 🤦‍♀️ \")\n",
    "        return\n",
    "     print(f\" \\n player B's turn. current number {n}\")\n",
    "     move= int(input(\"player B, subtract 1 or 2:\"))\n",
    "     while move not in[1,2]:\n",
    "         move= int(input(\"player B, subtract 1 or 2:\"))\n",
    "     player_A(n-move)\n",
    "start=int(input(\"enter starting number:\"))\n",
    "player_A(start)"
   ]
  },
  {
   "cell_type": "code",
   "execution_count": null,
   "id": "f01d77d0-30e7-4c91-9d8e-8a5a7cd42b76",
   "metadata": {},
   "outputs": [],
   "source": []
  }
 ],
 "metadata": {
  "kernelspec": {
   "display_name": "Python 3 (ipykernel)",
   "language": "python",
   "name": "python3"
  },
  "language_info": {
   "codemirror_mode": {
    "name": "ipython",
    "version": 3
   },
   "file_extension": ".py",
   "mimetype": "text/x-python",
   "name": "python",
   "nbconvert_exporter": "python",
   "pygments_lexer": "ipython3",
   "version": "3.12.7"
  }
 },
 "nbformat": 4,
 "nbformat_minor": 5
}
